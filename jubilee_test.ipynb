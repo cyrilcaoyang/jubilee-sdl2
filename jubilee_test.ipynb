{
 "cells": [
  {
   "cell_type": "code",
   "execution_count": 5,
   "id": "fc197599-f789-4fd1-97a6-7624d58649c8",
   "metadata": {},
   "outputs": [],
   "source": [
    "from science_jubilee.Machine import Machine\n",
    "from science_jubilee.tools import Pipette\n",
    "from science_jubilee.tools import RDE\n",
    "from science_jubilee.decks import Deck"
   ]
  },
  {
   "cell_type": "code",
   "execution_count": 6,
   "id": "7e8d84d4-2351-47f4-9be3-e65602d726ab",
   "metadata": {},
   "outputs": [
    {
     "name": "stdout",
     "output_type": "stream",
     "text": [
      "Warning: disconnecting this application from the network will halt connection to Jubilee.\n"
     ]
    }
   ],
   "source": [
    "m = Machine(address='127.0.0.1')                 # a new machine, called 'm'"
   ]
  },
  {
   "cell_type": "code",
   "execution_count": 7,
   "id": "4d4ca389-0468-4f98-913c-4fb4500c2c62",
   "metadata": {},
   "outputs": [],
   "source": [
    "m.move_to(x=100, y=50, z=200) # moves to the absolute position (100, 50, 200)\n",
    "m.move_to(x=75)               # moves to the absolute position (75, 50, 200)\n",
    "m.move(dz=-50)                # moves -50 in the z direction to (75, 50, 150)"
   ]
  },
  {
   "cell_type": "code",
   "execution_count": 11,
   "id": "6badfa79-c1a8-4d19-af3e-e0774794fffe",
   "metadata": {},
   "outputs": [
    {
     "name": "stdout",
     "output_type": "stream",
     "text": [
      "setting loaded\n"
     ]
    }
   ],
   "source": [
    "P300 = Pipette.Pipette.from_config(0, 'Pipette', 'P300_config.json')\n",
    "print('setting loaded')\n",
    "m.load_tool(P300)"
   ]
  },
  {
   "cell_type": "code",
   "execution_count": 10,
   "id": "34eb3a07-30bf-41fa-a5ec-07f6f4aec543",
   "metadata": {
    "scrolled": true
   },
   "outputs": [
    {
     "name": "stdout",
     "output_type": "stream",
     "text": [
      "None\n",
      "{0: {'name': 'Pipette', 'tool': <science_jubilee.tools.Pipette.Pipette object at 0x7fff3031bbc0>}, 1: {'name': 'BlueRev RDE', 'tool': <science_jubilee.tools.RDE.RDE object at 0x7fff3031b170>}}\n"
     ]
    }
   ],
   "source": [
    "rde = RDE.RDE.from_config(1, 'BlueRev RDE','P300_config.json')\n",
    "m.load_tool(rde)\n",
    "print(m.tool)  # prints the active tool\n",
    "print(m.tools) # prints all available tools"
   ]
  },
  {
   "cell_type": "code",
   "execution_count": 12,
   "id": "71a881bc-c904-403c-8b4f-68e373861c69",
   "metadata": {},
   "outputs": [],
   "source": [
    "m.pickup_tool(P300)"
   ]
  },
  {
   "cell_type": "code",
   "execution_count": 7,
   "id": "92e389a3-bea4-4cbc-b5ee-31140fc1716d",
   "metadata": {},
   "outputs": [],
   "source": [
    "m.park_tool()"
   ]
  },
  {
   "cell_type": "code",
   "execution_count": 9,
   "id": "2143b9d3-2c88-430c-8423-4fd7b36074f2",
   "metadata": {},
   "outputs": [],
   "source": [
    "m.pickup_tool(1)"
   ]
  },
  {
   "cell_type": "code",
   "execution_count": 13,
   "id": "f465f205-1080-4334-94c9-bcf0c77ea71e",
   "metadata": {},
   "outputs": [],
   "source": [
    "m.park_tool()"
   ]
  },
  {
   "cell_type": "code",
   "execution_count": null,
   "id": "02ecb9e9-7bc4-49c1-b4f7-48b525f93401",
   "metadata": {},
   "outputs": [],
   "source": []
  }
 ],
 "metadata": {
  "kernelspec": {
   "display_name": "Science_Jubilee",
   "language": "python",
   "name": "science_jubilee"
  },
  "language_info": {
   "codemirror_mode": {
    "name": "ipython",
    "version": 3
   },
   "file_extension": ".py",
   "mimetype": "text/x-python",
   "name": "python",
   "nbconvert_exporter": "python",
   "pygments_lexer": "ipython3",
   "version": "3.12.7"
  }
 },
 "nbformat": 4,
 "nbformat_minor": 5
}
